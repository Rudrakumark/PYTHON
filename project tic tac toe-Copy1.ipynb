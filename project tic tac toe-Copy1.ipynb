{
 "cells": [
  {
   "cell_type": "code",
   "execution_count": 1,
   "id": "ffd876e7",
   "metadata": {},
   "outputs": [],
   "source": [
    "\n",
    "game_running=True\n",
    "current_player=\"X\"\n",
    "def display_board(board):\n",
    "    print(board[0]+ \"|\" + board[1]+ \"|\" + board[2])\n",
    "    print(board[3]+ \"|\" + board[4]+ \"|\" + board[5])\n",
    "    print(board[6]+ \"|\" + board[7]+ \"|\" + board[8])"
   ]
  },
  {
   "cell_type": "code",
   "execution_count": 2,
   "id": "d4591723",
   "metadata": {},
   "outputs": [],
   "source": [
    "def player_input(board,current_player):\n",
    "    while True:\n",
    "        if current_player==\"X\":\n",
    "            inp=int(input(\"enter a position 1-9 player 1 : \"))\n",
    "        else:\n",
    "            inp=int(input(\"enter a position 1-9 player 2 : \")) \n",
    "        if 1<=inp <=9 and board[inp-1]==\" \":\n",
    "            return inp\n",
    "        else:\n",
    "            print(\"Oops player is already in that spot!\")"
   ]
  },
  {
   "cell_type": "code",
   "execution_count": 3,
   "id": "5b38a782",
   "metadata": {},
   "outputs": [],
   "source": [
    "def check_win(board):\n",
    "    if board[0]==board[1]==board[2] and board[0]!=' ':\n",
    "        return True\n",
    "    elif board[3]==board[4]==board[5] and board[3]!=' ':\n",
    "        return True\n",
    "    elif board[6]==board[7]==board[8] and board[6]!=' ':\n",
    "        return True\n",
    "    elif board[0]==board[3]==board[6] and board[0]!=' ':\n",
    "        return True\n",
    "    elif board[1]==board[4]==board[7] and board[1]!=' ':\n",
    "        return True\n",
    "    elif board[2]==board[5]==board[8] and board[2]!=' ':\n",
    "        return True\n",
    "    elif board[0]==board[4]==board[8] and board[0]!=' ':\n",
    "        return True\n",
    "    elif board[2]==board[4]==board[6] and board[2]!=' ':\n",
    "        return True\n",
    "    else:\n",
    "        return False"
   ]
  },
  {
   "cell_type": "code",
   "execution_count": 4,
   "id": "866114fd",
   "metadata": {},
   "outputs": [],
   "source": [
    "def switch_player(current_player):\n",
    "    return \"O\" if current_player==\"X\" else \"X\""
   ]
  },
  {
   "cell_type": "code",
   "execution_count": 5,
   "id": "b14e3d5a",
   "metadata": {},
   "outputs": [],
   "source": [
    "def space_check(board, position):\n",
    "    return board[position] == ' '"
   ]
  },
  {
   "cell_type": "code",
   "execution_count": 6,
   "id": "5766b609",
   "metadata": {},
   "outputs": [],
   "source": [
    "def full_board_check(board):\n",
    "    for i in range(1,10):\n",
    "        if space_check(board, i):\n",
    "            return False\n",
    "    return True"
   ]
  },
  {
   "cell_type": "code",
   "execution_count": 7,
   "id": "2d8a63ee",
   "metadata": {},
   "outputs": [],
   "source": [
    "def check_tie(board):\n",
    "    if \" \"not in board:\n",
    "        return True\n",
    "    else:\n",
    "        return False   "
   ]
  },
  {
   "cell_type": "code",
   "execution_count": 8,
   "id": "f9159a23",
   "metadata": {},
   "outputs": [],
   "source": [
    "def replay():\n",
    "    return input('Do you want to play again? Enter Yes or No: ').lower().startswith('y')\n"
   ]
  },
  {
   "cell_type": "code",
   "execution_count": 9,
   "id": "2b1424c4",
   "metadata": {},
   "outputs": [
    {
     "name": "stdout",
     "output_type": "stream",
     "text": [
      " | | \n",
      " | | \n",
      " | | \n",
      "enter a position 1-9 player 1 : 5\n",
      " | | \n",
      " |X| \n",
      " | | \n",
      "enter a position 1-9 player 2 : 1\n",
      "O| | \n",
      " |X| \n",
      " | | \n",
      "enter a position 1-9 player 1 : 6\n",
      "O| | \n",
      " |X|X\n",
      " | | \n",
      "enter a position 1-9 player 2 : 2\n",
      "O|O| \n",
      " |X|X\n",
      " | | \n",
      "enter a position 1-9 player 1 : 4\n",
      "O|O| \n",
      "X|X|X\n",
      " | | \n",
      "X  won the match \n",
      "Do you want to play again? Enter Yes or No: no\n"
     ]
    }
   ],
   "source": [
    "while True:\n",
    "    board=[\" \"]*9\n",
    "    game_running=True\n",
    "    current_player=\"X\"\n",
    "    while game_running:\n",
    "        display_board(board)\n",
    "        position=player_input(board,current_player)\n",
    "        board[position-1]=current_player\n",
    "        if check_win(board):\n",
    "            display_board(board)\n",
    "            print(f\"{current_player}  won the match \")\n",
    "            game_running=False\n",
    "        elif check_tie(board):\n",
    "            display_board(board)\n",
    "            print(\"game is tie\")\n",
    "            game_running=False\n",
    "        else:\n",
    "            current_player=switch_player(current_player)\n",
    "    if not replay():\n",
    "        break\n",
    "        \n",
    "                "
   ]
  },
  {
   "cell_type": "code",
   "execution_count": null,
   "id": "9c1f31ec",
   "metadata": {},
   "outputs": [],
   "source": [
    "pw"
   ]
  },
  {
   "cell_type": "code",
   "execution_count": null,
   "id": "a1f5f50b",
   "metadata": {},
   "outputs": [],
   "source": []
  },
  {
   "cell_type": "code",
   "execution_count": null,
   "id": "83cea981",
   "metadata": {},
   "outputs": [],
   "source": []
  }
 ],
 "metadata": {
  "kernelspec": {
   "display_name": "Python 3 (ipykernel)",
   "language": "python",
   "name": "python3"
  },
  "language_info": {
   "codemirror_mode": {
    "name": "ipython",
    "version": 3
   },
   "file_extension": ".py",
   "mimetype": "text/x-python",
   "name": "python",
   "nbconvert_exporter": "python",
   "pygments_lexer": "ipython3",
   "version": "3.11.5"
  }
 },
 "nbformat": 4,
 "nbformat_minor": 5
}
